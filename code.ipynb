{
 "cells": [
  {
   "cell_type": "code",
   "execution_count": 22,
   "metadata": {},
   "outputs": [],
   "source": [
    "from sklearn.model_selection import train_test_split\n",
    "from scipy.spatial.distance import pdist, squareform\n",
    "from sklearn.ensemble import RandomForestClassifier\n",
    "from sklearn.model_selection import GridSearchCV\n",
    "from sklearn.manifold import TSNE\n",
    "from multiprocessing import Pool\n",
    "from pandas import concat\n",
    "from pandas import DataFrame\n",
    "from pandas import set_option\n",
    "from os import listdir\n",
    "from os.path import isfile\n",
    "from time import sleep\n",
    "from time import time\n",
    "from random import choice\n",
    "from pickle import dump\n",
    "from pickle import load\n",
    "from warnings import simplefilter\n",
    "import matplotlib.pyplot as plt\n",
    "from matplotlib import offsetbox\n",
    "import numpy as np\n",
    "\n",
    "set_option('display.max_colwidth',1000)\n",
    "simplefilter(action='ignore', category=FutureWarning)\n",
    "\n",
    "%run supported_models/sklRF\n",
    "%run dataset\n",
    "%run z3\n",
    "%run viz_generator\n",
    "%run experiment_scripts"
   ]
  },
  {
   "cell_type": "code",
   "execution_count": 23,
   "metadata": {},
   "outputs": [
    {
     "name": "stdout",
     "output_type": "stream",
     "text": [
      "Row4:\t target='democrat' output='republican'\n",
      "Row34:\t target='republican' output='democrat'\n",
      "Row38:\t target='democrat' output='republican'\n",
      "Row126:\t target='republican' output='democrat'\n",
      "Row128:\t target='republican' output='democrat'\n",
      "Row138:\t target='republican' output='democrat'\n",
      "Row162:\t target='republican' output='democrat'\n",
      "Row181:\t target='republican' output='democrat'\n",
      "Row184:\t target='republican' output='democrat'\n",
      "Row185:\t target='republican' output='democrat'\n",
      "Row191:\t target='democrat' output='republican'\n",
      "Row197:\t target='democrat' output='republican'\n",
      "Row199:\t target='democrat' output='republican'\n",
      "Row206:\t target='democrat' output='republican'\n"
     ]
    }
   ],
   "source": [
    "#Data\n",
    "train, test = download_openml_dataset_split( 'vote', .5 )\n",
    "ds = test\n",
    "\n",
    "#Random Forest\n",
    "parameters = {'min_samples_leaf':[1],'n_estimators':[20]}\n",
    "rf = RandomForestClassifier()\n",
    "clf = GridSearchCV(rf, parameters, cv=10)\n",
    "clf = clf.fit(train.data, train.target)\n",
    "\n",
    "#Logic Objects\n",
    "RF = SciKitLearnRF(clf.best_estimator_,train)\n",
    "engine = Z3(train,RF) #compute bounds over all data, but classifer has never seen test\n",
    "\n",
    "#Find the samples where the RF is incorrect\n",
    "predictions = clf.predict(test.data)\n",
    "incorrect = []\n",
    "for i in range(len(predictions)):\n",
    "    if predictions[i]!=test.target[i]:\n",
    "        print('Row%d:\\t'%i,'target=%s'%test.targetMap[test.target[i]], 'output=%s'%test.targetMap[predictions[i]])\n",
    "        incorrect.append(i)"
   ]
  },
  {
   "cell_type": "markdown",
   "metadata": {},
   "source": [
    "# Why does the model disagree with the ground truth label?"
   ]
  },
  {
   "cell_type": "code",
   "execution_count": null,
   "metadata": {},
   "outputs": [],
   "source": [
    "MUCs=[]\n",
    "for idx in incorrect:\n",
    "    print(idx)\n",
    "    MUCs.append(get_explanation([idx,predictions[idx],ds,engine]))"
   ]
  },
  {
   "cell_type": "code",
   "execution_count": null,
   "metadata": {},
   "outputs": [],
   "source": [
    "# Create a table of explanations for writeup\n",
    "explanations=[]\n",
    "for MUC in MUCs:\n",
    "    explanations.append(rationalize_behavior_by_category(MUC,test,predictions))\n",
    "\n",
    "rationalization = {'Test ID':[i for i in incorrect],\n",
    "                   'Ground Truth':[test.targetMap[test.target[i]].upper()[1:4] for i in incorrect],\n",
    "                   'Model Output':[test.targetMap[clf.predict(test.data)[i]].upper()[1:4] for i in incorrect],\n",
    "                   'Attribute Values':[explanations[i]['input'] if type(explanations[i])==dict else '' for i in range(len(incorrect)) ],\n",
    "                   'Threshold Values':[explanations[i]['threshold'] if type(explanations[i])==dict else '' for i in range(len(incorrect)) ],\n",
    "                   'Leaf Assignments':[explanations[i]['leaf'] if type(explanations[i])==dict else '' for i in range(len(incorrect)) ]\n",
    "                  }\n",
    "explanation_df = DataFrame(data=rationalization)\n",
    "# print(explanation_df.to_latex(index=False))"
   ]
  },
  {
   "cell_type": "markdown",
   "metadata": {},
   "source": [
    "# What can we do to change the model?"
   ]
  },
  {
   "cell_type": "code",
   "execution_count": null,
   "metadata": {},
   "outputs": [],
   "source": [
    "num_processors = 30\n",
    "p=Pool(processes = num_processors)\n",
    "output = p.map(get_interventions ,[(i,ds,clf,engine,train) for i in incorrect[:10]])\n",
    "p.close()"
   ]
  },
  {
   "cell_type": "code",
   "execution_count": null,
   "metadata": {},
   "outputs": [],
   "source": [
    "#Look at why_not_row191_prediction.model\n",
    "rowID=64\n",
    "#199 253 183 6 244 294 283\n",
    "with open('output/intervention_row%d.pkl'%(rowID),'rb') as f:\n",
    "    output=load(f)\n",
    "print(output)\n",
    "dot = Digraph(comment='SAT Model',graph_attr={'splines':'spline'})#{'splines':'ortho'})\n",
    "models = viz_rf(engine.assert_branches(),engine.assert_rules(),engine.assert_leaves(),output[1],output[2])#interventions,changes)\n",
    "dot.subgraph(models)\n",
    "dot#.render('intervention_tree_55', view=True)"
   ]
  },
  {
   "cell_type": "markdown",
   "metadata": {},
   "source": [
    "# When should we not trust model output?"
   ]
  },
  {
   "cell_type": "code",
   "execution_count": 24,
   "metadata": {},
   "outputs": [],
   "source": [
    "cD=get_distrust_regions(engine,ds)\n",
    "\n",
    "confusing = DataFrame(columns=train.data.columns)\n",
    "for elem in cD:\n",
    "    confusing = confusing.append([elem])\n"
   ]
  },
  {
   "cell_type": "code",
   "execution_count": 29,
   "metadata": {},
   "outputs": [
    {
     "data": {
      "text/plain": [
       "<matplotlib.legend.Legend at 0x7f74cfc57630>"
      ]
     },
     "execution_count": 29,
     "metadata": {},
     "output_type": "execute_result"
    },
    {
     "data": {
      "image/png": "[encoded data removed]",
      "text/plain": [
       "<Figure size 432x288 with 1 Axes>"
      ]
     },
     "metadata": {
      "needs_background": "light"
     },
     "output_type": "display_data"
    }
   ],
   "source": [
    "# *** Show the random forest's confidence (Low for confusing samples)\n",
    "trainprobs = clf.best_estimator_.predict_proba(train.data)\n",
    "trainprobs = [max(trainprobs[i]) for i in range(len(trainprobs))]\n",
    "\n",
    "testprobs = clf.best_estimator_.predict_proba(test.data)\n",
    "testprobs = [max(testprobs[i]) for i in range(len(testprobs))]\n",
    "\n",
    "confusingprobs = clf.best_estimator_.predict_proba(confusing)\n",
    "confusingprobs = [max(confusingprobs[i]) for i in range(len(confusingprobs))]\n",
    "\n",
    "plt.figure()\n",
    "#plt.hist(confusingprobs,bins=np.arange(.5,1,.05),label=('Confusing0'))\n",
    "#plt.hist(testprobs,bins=np.arange(.5,1,.05),label=('Test0'))\n",
    "#plt.hist(trainprobs,bins=np.arange(.5,1,.05),label=('Train0'))\n",
    "plt.hist([trainprobs,testprobs],bins=np.arange(.5,1,.05),label=(['Train','Test']))\n",
    "plt.legend(loc='upper center')\n",
    "\n",
    "# *** Show the individual trees confidence (High for confusing samples) ***\n",
    "# for modelID in range(10):\n",
    "#     trainprobs = clf.best_estimator_.estimators_[modelID].predict_proba(train.data)\n",
    "#     trainprobs = [max(trainprobs[i]) for i in range(len(trainprobs))]\n",
    "\n",
    "#     testprobs = clf.best_estimator_.estimators_[modelID].predict_proba(test.data)\n",
    "#     testprobs = [max(testprobs[i]) for i in range(len(testprobs))]\n",
    "\n",
    "#     confusingprobs = clf.best_estimator_.estimators_[modelID].predict_proba(confusing)\n",
    "#     confusingprobs = [max(confusingprobs[i]) for i in range(len(confusingprobs))]\n",
    "\n",
    "#     plt.figure()\n",
    "#     plt.hist(confusingprobs,label=('Confusing0'))\n",
    "#     plt.hist(testprobs,label=('Test0'))\n",
    "#     plt.hist(trainprobs,label=('Train0'))\n",
    "#     plt.legend(loc='upper center')"
   ]
  },
  {
   "cell_type": "code",
   "execution_count": 34,
   "metadata": {},
   "outputs": [
    {
     "data": {
      "text/plain": [
       "217"
      ]
     },
     "execution_count": 34,
     "metadata": {},
     "output_type": "execute_result"
    }
   ],
   "source": [
    "len(testprobs)"
   ]
  },
  {
   "cell_type": "code",
   "execution_count": null,
   "metadata": {},
   "outputs": [],
   "source": [
    "xtrain = train.data\n",
    "ytrain = [0 for elem in train.target]\n",
    "xtest = test.data\n",
    "ytest = [1 for elem in test.target]\n",
    "xconfusing = confusing[:220]\n",
    "yconfusing = [2 for elem in range(220)]\n",
    "\n",
    "xall = concat([xtrain,xtest,xconfusing])\n",
    "yall = ytrain+ytest+yconfusing\n",
    "\n",
    "X=xall\n",
    "y=yall\n",
    "n_samples, n_features = X.shape\n",
    "n_neighbors = 100\n",
    "\n",
    "# https://scikit-learn.org/stable/auto_examples/manifold/plot_lle_digits.html#sphx-glr-auto-examples-manifold-plot-lle-digits-py\n",
    "def plot_embedding(X, title=None):\n",
    "    x_min, x_max = np.min(X, 0), np.max(X, 0)\n",
    "    X = (X - x_min) / (x_max - x_min)\n",
    "\n",
    "    fig=plt.figure(figsize=(12, 8),frameon=False)\n",
    "    #ax = plt.subplot(111)\n",
    "    for i in range(X.shape[0]):\n",
    "        plt.scatter(X[i,0],X[i,1],marker=['+','_','o'][y[i]],color='black',facecolors=['black','black','none'][y[i]])#['black','black','white'][y[i]])\n",
    "\n",
    "    plt.xticks([]), plt.yticks([])\n",
    "    if title is not None:\n",
    "        plt.title(title,fontdict={'fontsize':14,})\n",
    "    fig.savefig('tsne_3.pdf', format='pdf',bbox_inches='tight', pad_inches=0)\n",
    "\n",
    "print(\"Computing t-SNE embedding\")\n",
    "tsne = TSNE(n_components=2, init='pca',random_state=0)\n",
    "t0 = time()\n",
    "X_tsne = tsne.fit_transform(X)\n",
    "\n",
    "plot_embedding(X_tsne)\n"
   ]
  },
  {
   "cell_type": "code",
   "execution_count": null,
   "metadata": {},
   "outputs": [],
   "source": [
    "get_cdist(xall,yall)"
   ]
  }
 ],
 "metadata": {
  "kernelspec": {
   "display_name": "Python 3",
   "language": "python",
   "name": "python3"
  },
  "language_info": {
   "codemirror_mode": {
    "name": "ipython",
    "version": 3
   },
   "file_extension": ".py",
   "mimetype": "text/x-python",
   "name": "python",
   "nbconvert_exporter": "python",
   "pygments_lexer": "ipython3",
   "version": "3.7.3"
  }
 },
 "nbformat": 4,
 "nbformat_minor": 2
}
