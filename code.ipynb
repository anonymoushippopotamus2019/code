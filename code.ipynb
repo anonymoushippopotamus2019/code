{
 "cells": [
  {
   "cell_type": "code",
   "execution_count": 21,
   "metadata": {},
   "outputs": [],
   "source": [
    "from sklearn.model_selection import train_test_split\n",
    "from sklearn.ensemble import RandomForestClassifier\n",
    "%run supported_models/sklRF\n",
    "%run dataset\n",
    "%run z3"
   ]
  },
  {
   "cell_type": "code",
   "execution_count": 22,
   "metadata": {},
   "outputs": [
    {
     "name": "stderr",
     "output_type": "stream",
     "text": [
      "/zfsauton/home/ngisolfi/anaconda2/envs/p3/lib/python3.7/site-packages/sklearn/ensemble/forest.py:246: FutureWarning: The default value of n_estimators will change from 10 in version 0.20 to 100 in 0.22.\n",
      "  \"10 in version 0.20 to 100 in 0.22.\", FutureWarning)\n"
     ]
    }
   ],
   "source": [
    "ds = download_openml_dataset( 'vote' )\n",
    "clf = RandomForestClassifier()\n",
    "clf = clf.fit(ds.data, ds.target)\n",
    "RF = SciKitLearnRF(clf,ds)\n",
    "engine = Z3(ds,RF)"
   ]
  },
  {
   "cell_type": "code",
   "execution_count": 23,
   "metadata": {},
   "outputs": [],
   "source": [
    "for rowID in range(5):\n",
    "    query={}\n",
    "    for attnum in range(len(ds.data.columns)):\n",
    "        query[ds.data.columns[attnum]]=ds.data.iloc[rowID][attnum]\n",
    "\n",
    "    scriptText = \\\n",
    "        engine.set_options_true(['produce-models',\n",
    "                                 'produce-unsat-assumptions',\n",
    "                                 'produce-unsat-cores',\n",
    "                                 'smt.core.minimize']) + \\\n",
    "        engine.set_logic('AUFLIRA') + \\\n",
    "        engine.declare_query_attribute_values() + \\\n",
    "        engine.assert_query_attribute_values(query)+ \\\n",
    "        engine.declare_query_target() + \\\n",
    "        engine.assert_query_target(ds.target[rowID]) + \\\n",
    "        engine.declare_ensemble_prediction_array() + \\\n",
    "        engine.declare_thresholds() + \\\n",
    "        engine.assert_thresholds() + \\\n",
    "        engine.declare_rules() + \\\n",
    "        engine.assert_rules() + \\\n",
    "        engine.declare_branches() + \\\n",
    "        engine.assert_branches() + \\\n",
    "        engine.declare_predictions() + \\\n",
    "        engine.assert_leaves() + \\\n",
    "        engine.assert_ensemble_prediction_array()\n",
    "\n",
    "    for i in range(len(engine.dataSet.targetMap)):\n",
    "        scriptText += engine.declare_function_count_key_in_array(i)\n",
    "        scriptText += engine.assert_function_count_key_in_array(i)\n",
    "\n",
    "    scriptText += \\\n",
    "        engine.declare_ensemble_prediction_votes() + \\\n",
    "        engine.assert_ensemble_prediction_votes() + \\\n",
    "        engine.declare_function_max_of_array() + \\\n",
    "        engine.assert_function_max_of_array() + \\\n",
    "        engine.declare_human_expectation_for_query_target() + \\\n",
    "        engine.assert_human_expectation_for_query_target(1-ds.target[rowID]) + \\\n",
    "        engine.conclude()\n",
    "\n",
    "    filename = 'output/why_not_row%d_prediction'%(rowID)\n",
    "    script2file(filename,scriptText)\n",
    "    run_z3_script( filename, '.model' )\n"
   ]
  },
  {
   "cell_type": "code",
   "execution_count": null,
   "metadata": {},
   "outputs": [],
   "source": []
  }
 ],
 "metadata": {
  "kernelspec": {
   "display_name": "Python 3",
   "language": "python",
   "name": "python3"
  },
  "language_info": {
   "codemirror_mode": {
    "name": "ipython",
    "version": 3
   },
   "file_extension": ".py",
   "mimetype": "text/x-python",
   "name": "python",
   "nbconvert_exporter": "python",
   "pygments_lexer": "ipython3",
   "version": "3.7.3"
  }
 },
 "nbformat": 4,
 "nbformat_minor": 2
}
